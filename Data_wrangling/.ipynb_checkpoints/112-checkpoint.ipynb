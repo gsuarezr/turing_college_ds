{
 "cells": [
  {
   "cell_type": "markdown",
   "id": "d2242ca5-74ef-4610-9e8a-9f87cb9d9dd5",
   "metadata": {},
   "source": [
    "# Module 1: Data Wrangling with Python"
   ]
  },
  {
   "cell_type": "markdown",
   "id": "24cd5d83-a8ab-489e-a6f9-c450076f61cf",
   "metadata": {},
   "source": [
    "## Sprint 1: Python Mastery"
   ]
  },
  {
   "cell_type": "markdown",
   "id": "5b1fbb5f-16d1-41a6-b54e-37b7c7074ed0",
   "metadata": {},
   "source": [
    "## Part 2: Improving Code Reliability"
   ]
  },
  {
   "cell_type": "markdown",
   "id": "d703bb4f-5c6c-4925-84c3-219268fa8493",
   "metadata": {},
   "source": [
    "## About this Part\n\nIn this Part, we will focus on improving code reliability by using type checking - something that was recently added to Python.\nStatic type checking allows you to see any type errors without running your code and even can be used to understand your code better.\nYou will learn how to do that with MyPy, which is by far the most stable and popular tool used for this purpose.\nYou will also see some examples of how to write clean code in Python.\nAmong other things, we will also learn about our first machine learning algorithm - k-means clustering.\n"
   ]
  },
  {
   "cell_type": "markdown",
   "id": "cbb88529-af7a-4cae-a465-ce9eb4785029",
   "metadata": {},
   "source": [
    "Starting with this Part, each resource will have a suggested depth level and an approximate number of hours that you should spend on it."
   ]
  },
  {
   "cell_type": "markdown",
   "id": "f0f6e97e-0c99-4ce7-b12a-5d45b1d35ea2",
   "metadata": {},
   "source": [
    "## Depth levels and time estimates\n\nDepth categories will be used as follows:\n\n- C1 - watch or read the material. No need to look up the documentation of unfamiliar code or look up new concepts in other resources. If there are exercises that are part of the resource, you can treat them as optional. If you feel that you do not understand more than half of the concepts or code in the resource, you are most likely missing some prerequisites. Your understanding of the new material should be 45-65%.\n- C2 - watch or read the material attentively. Look up the documentation of unfamiliar code and look up new concepts in other resources if they feel unclear. Your understanding of the new material should be 65-75%.\n- C3 - watch or read the material very attentively. Look up the documentation of unfamiliar code and look up unfamiliar concepts in other resources until you are confident in your understanding. Your understanding of the new material should be 75-85%.\n- C4 - watch or read the material while replicating all code examples that you read or see on the screen. Look up the documentation of unfamiliar code and retype all unfamiliar code blocks. Look up unfamiliar concepts in other resources until you are confident in your understanding. It is OK if there are still some concepts (or code) that you don't understand after the material, then spend time researching them in other resources. Your understanding of the new material should be 85-90%.\n- C5 - watch or read the material while replicating all code examples that you read or see on the screen. If there are still concepts (or code) that you don't understand after the material, then spend time researching them in other resources. Your understanding of the new material should be 90-95%.\n- C6 - watch or read the material while replicating all code examples that you read or see on the screen. In addition, try to replicate the functionality or concept yourself with different parameters (e.g., different dataset). If there are still concepts (or code) that you don't understand after the material, then spend time researching them in other resources. Your understanding of the new material should be 95-100%.\n\nFor example, if you see (C4, 1.5) next to a resource, it means you should be reading the material carefully, replicating the code, aiming for an understanding of 85–90%, spending approximately 1.5 hours.\n"
   ]
  },
  {
   "cell_type": "markdown",
   "id": "5bf43a47-7e61-4e97-ae48-d58c7c6538f1",
   "metadata": {},
   "source": "## Objectives for this Part\n\n- Learn about static type checking with MyPy\n- Learn the k-means clustering unsupervised learning algorithm\n- Learn how to do data extraction, transformation, and analysis with using defaultdict\n- Learn how to read CSV files using iterators\n- Learn how to apply Clean Code principles in Python\n- Understand how Python dictionaries work\n- Learn the basics of testing in Pyhton\n- Understand the differences between software different licence types\n- Practice Python skills on HackerRank\n- Practice using strings in Python by doing the Pig Latin exercise"
  },
  {
   "cell_type": "markdown",
   "id": "fea1c4bc-dbb2-49a5-b768-6d586c7f4b6f",
   "metadata": {},
   "source": [
    "### [Big Ideas and Little Code in Python by Raymond Hettinger](https://learning.oreilly.com/videos/modern-python-livelessons/9780134743400/)\n",
    "\n",
    "- Lesson 3: Improving Reliability with MyPy and Type Hinting (C4, 1)\n",
    "- Lesson 4: Implementing k-means Unsupervised Machine Learning (C4, 1.5)\n",
    "- Lesson 5: Building Additional Skills for Data Analysis (C4, 1)\n",
    "\n*Additional note:* While type hinting got to a relatively slow start in the industry, currently it is very rare to see larger production-level applications without type hints."
   ]
  },
  {
   "cell_type": "markdown",
   "id": "45c02199-9041-4a3b-a618-64f2e4a726a1",
   "metadata": {},
   "source": [
    "### [clean-code-python](https://github.com/zedr/clean-code-python) (C3, 1)\n"
   ]
  },
  {
   "cell_type": "markdown",
   "id": "083e75d3-3316-46f8-8a36-37a93cb6dec4",
   "metadata": {},
   "source": [
    "### [How Python dictionaries work](https://tenthousandmeters.com/blog/python-behind-the-scenes-10-how-python-dictionaries-work/) (C1, 1)\n"
   ]
  },
  {
   "cell_type": "markdown",
   "id": "3342253b-662e-4f2b-9cf4-e5439bd5a865",
   "metadata": {},
   "source": [
    "### [Getting Started With Testing in Python](https://realpython.com/python-testing/) (C1, 1)\n"
   ]
  },
  {
   "cell_type": "markdown",
   "id": "30851e59-1f4b-4e71-a9f2-7f6600c4d154",
   "metadata": {},
   "source": [
    "### [Choosing a License](https://docs.python-guide.org/writing/license/) (C1, 0.5)\n"
   ]
  },
  {
   "cell_type": "markdown",
   "id": "75281519-d3ac-4db0-b6f4-fe17838ecb04",
   "metadata": {},
   "source": [
    "### [HackerRank](https://www.hackerrank.com/)\n",
    "\n",
    "- [Collections.deque() (C4, 0.5)](https://www.hackerrank.com/challenges/py-collections-deque/problem)\n"
   ]
  },
  {
   "cell_type": "markdown",
   "id": "6b80ca42-4eb5-483f-af9e-019832e6c759",
   "metadata": {},
   "source": [
    "### [Python Workout](https://learning.oreilly.com/library/view/python-workout/9781617295508) (C4, 1)\n\nThis is how you should complete this task:\n\n- Read the exercise description below.\n- Try to solve the exercise yourself.\n- Read the WORKING IT OUT, SOLUTION, and BEYOND THE EXERCISE sections from the book.\n\n2 Strings | Exercise 5 ■ Pig Latin\n\nPig Latin (http://mng.bz/YrON) is a common children's \"secret\" language in English-speaking countries. (It's normally secret among children who forget that their parents were once children themselves.) The rules for translating words from English into Pig Latin are quite simple:\n\nIf the word begins with a vowel (a, e, i, o, or u), add \"way\" to the end of the word. So \"air\" becomes \"airway\" and \"eat\" becomes \"eatway.\"\n\nIf the word begins with any other letter, then we take the first letter, put it on the end of the word, and then add \"ay.\" Thus, \"python\" becomes \"ythonpay\" and \"computer\" becomes \"omputercay.\"\n\n(And yes, I recognize that the rules can be made more sophisticated. Let's keep it simple for the purposes of this exercise.)\n\nFor this exercise, write a Python function (pig_latin) that takes a string as input, assumed to be an English word. The function should return the translation of this word into Pig Latin. You may assume that the word contains no capital letters or punctuation.\n\nThis exercise isn't meant to help you translate documents into Pig Latin for your job. (If that is your job, then I really have to question your career choices.) However, it demonstrates some of the powerful techniques that you should know when working with sequences, including searches, iteration, and slices. It's hard to imagine a Python program that doesn't include any of these techniques."
   ]
  }
 ],
 "metadata": {
  "kernelspec": {
   "display_name": "Python 3",
   "language": "python",
   "name": "python3"
  },
  "language_info": {
   "codemirror_mode": {
    "name": "ipython",
    "version": 3
   },
   "file_extension": ".py",
   "mimetype": "text/x-python",
   "name": "python",
   "nbconvert_exporter": "python",
   "pygments_lexer": "ipython3",
   "version": "3.9.5"
  }
 },
 "nbformat": 4,
 "nbformat_minor": 5
}
