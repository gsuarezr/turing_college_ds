{
 "cells": [
  {
   "cell_type": "code",
   "execution_count": 1,
   "id": "09e1e67f-197a-4a93-aca7-6570601e7422",
   "metadata": {},
   "outputs": [],
   "source": [
    "import csv\n",
    "from collections import defaultdict,Counter\n",
    "from pprint import pprint\n",
    "import glob\n",
    "from typing import NamedTuple,DefaultDict,Tuple,List"
   ]
  },
  {
   "cell_type": "code",
   "execution_count": 2,
   "id": "ae019f84-0375-4795-a841-ed236be2de62",
   "metadata": {},
   "outputs": [],
   "source": [
    "#Data structure\n",
    "VoteValue=int\n",
    "Senator=NamedTuple('Senator',[('name',str),('party',str),('state',str)])\n",
    "acummulated_record:DefaultDict[Senator,list[VoteValue]]=defaultdict(list) #type:DefaultDict[Senator,List[VoteValue]]\n",
    "vote_value: DefaultDict[str,VoteValue]={'Yea':1,'Nay':-1,'Not Voting':0} #Type:Dict[str,VoteValue]\n",
    "VoteHistory=Tuple[VoteValue,...]"
   ]
  },
  {
   "cell_type": "code",
   "execution_count": 3,
   "id": "cfaa1e7e-6485-4ac6-b6e2-df019756cd50",
   "metadata": {},
   "outputs": [],
   "source": [
    "# Load votes and sort them by senators (it was sorted by topic)\n",
    "for filename in glob.glob('senate_data/*.csv'):\n",
    "    with open(filename,encoding='utf-8') as f:\n",
    "        reader=csv.reader(f)\n",
    "        vote_topic=next(reader)\n",
    "        headers=next(reader)\n",
    "        for person, state, district, vote, name, party in reader:\n",
    "            senator=Senator(name,party,state)\n",
    "            acummulated_record[senator].append(vote_value[vote])\n"
   ]
  },
  {
   "cell_type": "code",
   "execution_count": 4,
   "id": "dcc3ce86-be38-4539-a50c-c3486cf1e457",
   "metadata": {},
   "outputs": [
    {
     "name": "stdout",
     "output_type": "stream",
     "text": [
      "[-1, -1, 1, -1, -1, 1, -1, 1, 1, 1, 1, 1, -1, -1, 1, 1, 1, -1, 1, 1, 1, -1, -1, 1, 1, 1, 1, -1]\n"
     ]
    }
   ],
   "source": [
    "print(acummulated_record[senator])"
   ]
  },
  {
   "cell_type": "code",
   "execution_count": 5,
   "id": "6e76aea3-9c08-4025-885a-3641df3cb61c",
   "metadata": {},
   "outputs": [],
   "source": [
    "# Transform the record into a plain dict that maps to tuple of votes\n",
    "record:dict[Senator,VoteHistory]={senator:tuple(votes) for senator,votes in acummulated_record.items()}"
   ]
  },
  {
   "cell_type": "code",
   "execution_count": 6,
   "id": "23196a6b-b741-4cd2-aa71-8c37b8ac5012",
   "metadata": {},
   "outputs": [],
   "source": [
    "#Use K-means to locate the cluster centroins for the pattern of votes,assign each senator to the nearest cluster\n",
    "from kmeans import k_means,assign_data"
   ]
  },
  {
   "cell_type": "code",
   "execution_count": 7,
   "id": "047bc81d-7485-4af5-a927-f6e2429a5eff",
   "metadata": {},
   "outputs": [],
   "source": [
    "centers,labeled=k_means(record.values(),k=3)"
   ]
  },
  {
   "cell_type": "code",
   "execution_count": 8,
   "id": "d2063821-5b35-466f-b3c2-89531b0b7ed6",
   "metadata": {},
   "outputs": [],
   "source": [
    "clustered_vots=assign_data(centers,record.values())"
   ]
  },
  {
   "cell_type": "code",
   "execution_count": 9,
   "id": "7e9b48f5-244b-4d3a-8d06-eefa232298f1",
   "metadata": {},
   "outputs": [],
   "source": [
    "#Build a reverse mapping from a vote history to a list of senators who voted that way "
   ]
  },
  {
   "cell_type": "code",
   "execution_count": 10,
   "id": "45674923-e040-45b9-9111-0abd35dc8b81",
   "metadata": {},
   "outputs": [],
   "source": [
    "votes_to_senators:DefaultDict[VoteHistory,list[Senator]]=defaultdict(list)\n",
    "for senator,votehistory in record.items():\n",
    "    votes_to_senators[votehistory].append(senator)"
   ]
  },
  {
   "cell_type": "code",
   "execution_count": 11,
   "id": "4cdd538b-4541-4659-88f4-6898af1983f5",
   "metadata": {},
   "outputs": [
    {
     "data": {
      "text/plain": [
       "True"
      ]
     },
     "execution_count": 11,
     "metadata": {},
     "output_type": "execute_result"
    }
   ],
   "source": [
    "sum(len(cluster) for cluster in votes_to_senators.values())==100"
   ]
  },
  {
   "cell_type": "code",
   "execution_count": 12,
   "id": "86dcbbd9-2a33-4eee-b47e-9ab1cb1a1a2c",
   "metadata": {},
   "outputs": [
    {
     "name": "stdout",
     "output_type": "stream",
     "text": [
      "===================== Voting Cluster 1 ===================\n",
      "Senator(name='Sen. Kelly Ayotte [R, 2011-2016]', party='Republican', state='NH')\n",
      "Senator(name='Sen. Lisa Murkowski [R, 2003-2022]', party='Republican', state='AK')\n",
      "Senator(name='Sen. Patrick “Pat” Toomey [R, 2011-2022]', party='Republican', state='PA')\n",
      "Senator(name='Sen. Heidi Heitkamp [D, 2013-2018]', party='Democrat', state='ND')\n",
      "Senator(name='Sen. James “Jim” Inhofe [R, 1994-2026]', party='Republican', state='OK')\n",
      "Senator(name='Sen. Mike Rounds [R, 2015-2026]', party='Republican', state='SD')\n",
      "Senator(name='Sen. David Vitter [R, 2005-2016]', party='Republican', state='LA')\n",
      "Senator(name='Sen. Shelley Capito [R, 2015-2026]', party='Republican', state='WV')\n",
      "Senator(name='Sen. Robert “Rob” Portman [R, 2011-2022]', party='Republican', state='OH')\n",
      "Senator(name='Sen. Jerry Moran [R, 2011-2022]', party='Republican', state='KS')\n",
      "Senator(name='Sen. Cory Gardner [R, 2015-2020]', party='Republican', state='CO')\n",
      "Senator(name='Sen. Dan Sullivan [R, 2015-2026]', party='Republican', state='AK')\n",
      "Senator(name='Sen. Mitch McConnell [R, 1985-2026]', party='Republican', state='KY')\n",
      "Senator(name='Sen. Roy Blunt [R, 2011-2022]', party='Republican', state='MO')\n",
      "Senator(name='Sen. John Thune [R, 2005-2022]', party='Republican', state='SD')\n",
      "Senator(name='Sen. Joe Donnelly [D, 2013-2018]', party='Democrat', state='IN')\n",
      "Senator(name='Sen. John Barrasso [R, 2007-2024]', party='Republican', state='WY')\n",
      "Senator(name='Sen. John Hoeven [R, 2011-2022]', party='Republican', state='ND')\n",
      "Senator(name='Sen. Tim Scott [R, 2013-2022]', party='Republican', state='SC')\n",
      "Senator(name='Sen. Roger Wicker [R, 2007-2024]', party='Republican', state='MS')\n",
      "Senator(name='Sen. Tammy Baldwin [D, 2013-2024]', party='Democrat', state='WI')\n",
      "Senator(name='Sen. Deb Fischer [R, 2013-2024]', party='Republican', state='NE')\n",
      "Senator(name='Sen. Ron Johnson [R, 2011-2022]', party='Republican', state='WI')\n",
      "Senator(name='Sen. Richard Shelby [R, 1987-2022]', party='Republican', state='AL')\n",
      "Senator(name='Sen. Daniel Coats [R, 2011-2016]', party='Republican', state='IN')\n",
      "Senator(name='Sen. Jon Tester [D, 2007-2024]', party='Democrat', state='MT')\n",
      "Senator(name='Sen. John Cornyn [R, 2002-2026]', party='Republican', state='TX')\n",
      "Senator(name='Sen. Mark Kirk [R, 2010-2016]', party='Republican', state='IL')\n",
      "Senator(name='Sen. Bill Cassidy [R, 2015-2026]', party='Republican', state='LA')\n",
      "Senator(name='Sen. John Boozman [R, 2011-2022]', party='Republican', state='AR')\n",
      "Senator(name='Sen. Charles “Chuck” Grassley [R, 1981-2022]', party='Republican', state='IA')\n",
      "Senator(name='Sen. Steve Daines [R, 2015-2026]', party='Republican', state='MT')\n",
      "Senator(name='Sen. Joni Ernst [R, 2015-2026]', party='Republican', state='IA')\n",
      "Senator(name='Sen. Thom Tillis [R, 2015-2026]', party='Republican', state='NC')\n",
      "Senator(name='Sen. Marco Rubio [R, 2011-2022]', party='Republican', state='FL')\n",
      "Senator(name='Sen. David Perdue [R, 2015-2020]', party='Republican', state='GA')\n",
      "Senator(name='Sen. Tom Cotton [R, 2015-2026]', party='Republican', state='AR')\n",
      "Senator(name='Sen. Susan Collins [R, 1997-2026]', party='Republican', state='ME')\n",
      "Senator(name='Sen. Orrin Hatch [R, 1977-2018]', party='Republican', state='UT')\n",
      "Senator(name='Sen. Richard Burr [R, 2005-2022]', party='Republican', state='NC')\n",
      "Senator(name='Sen. John “Johnny” Isakson [R, 2005-2019]', party='Republican', state='GA')\n",
      "Senator(name='Sen. Thad Cochran [R, 1979-2018]', party='Republican', state='MS')\n",
      "Senator(name='Sen. Pat Roberts [R, 1997-2020]', party='Republican', state='KS')\n",
      "Senator(name='Sen. Lamar Alexander [R, 2003-2020]', party='Republican', state='TN')\n",
      "Senator(name='Sen. Michael Enzi [R, 1997-2020]', party='Republican', state='WY')\n",
      "Counter({'Republican': 41, 'Democrat': 4})\n",
      "===================== Voting Cluster 2 ===================\n",
      "Senator(name='Sen. Elizabeth Warren [D, 2013-2024]', party='Democrat', state='MA')\n",
      "Senator(name='Sen. Harry Reid [D, 1987-2016]', party='Democrat', state='NV')\n",
      "Senator(name='Sen. Ron Wyden [D, 1996-2022]', party='Democrat', state='OR')\n",
      "Senator(name='Sen. Edward “Ed” Markey [D, 2013-2026]', party='Democrat', state='MA')\n",
      "Senator(name='Sen. Bernard “Bernie” Sanders [I, 2007-2024]', party='Independent', state='VT')\n",
      "Senator(name='Sen. Jefferson “Jeff” Sessions [R, 1997-2017]', party='Republican', state='AL')\n",
      "Senator(name='Sen. Kirsten Gillibrand [D, 2009-2024]', party='Democrat', state='NY')\n",
      "Senator(name='Sen. Mike Lee [R, 2011-2022]', party='Republican', state='UT')\n",
      "Senator(name='Sen. Dean Heller [R, 2011-2018]', party='Republican', state='NV')\n",
      "Senator(name='Sen. Patrick Leahy [D, 1975-2022]', party='Democrat', state='VT')\n",
      "Senator(name='Sen. Jeff Flake [R, 2013-2018]', party='Republican', state='AZ')\n",
      "Senator(name='Sen. Jeff Merkley [D, 2009-2026]', party='Democrat', state='OR')\n",
      "Senator(name='Sen. Rand Paul [R, 2011-2022]', party='Republican', state='KY')\n",
      "Senator(name='Sen. Barbara Boxer [D, 1993-2016]', party='Democrat', state='CA')\n",
      "Senator(name='Sen. Ted Cruz [R, 2013-2024]', party='Republican', state='TX')\n",
      "Senator(name='Sen. Benjamin “Ben” Sasse [R, 2015-2026]', party='Republican', state='NE')\n",
      "Counter({'Democrat': 8, 'Republican': 7, 'Independent': 1})\n",
      "===================== Voting Cluster 3 ===================\n",
      "Senator(name='Sen. Tom Udall [D, 2009-2020]', party='Democrat', state='NM')\n",
      "Senator(name='Sen. Martin Heinrich [D, 2013-2024]', party='Democrat', state='NM')\n",
      "Senator(name='Sen. Robert “Bob” Casey Jr. [D, 2007-2024]', party='Democrat', state='PA')\n",
      "Senator(name='Sen. Mark Warner [D, 2009-2026]', party='Democrat', state='VA')\n",
      "Senator(name='Sen. Dianne Feinstein [D, 1992-2024]', party='Democrat', state='CA')\n",
      "Senator(name='Sen. Bill Nelson [D, 2001-2018]', party='Democrat', state='FL')\n",
      "Senator(name='Sen. Amy Klobuchar [D, 2007-2024]', party='Democrat', state='MN')\n",
      "Senator(name='Sen. Jeanne Shaheen [D, 2009-2026]', party='Democrat', state='NH')\n",
      "Senator(name='Sen. Michael Bennet [D, 2009-2022]', party='Democrat', state='CO')\n",
      "Senator(name='Sen. John McCain [R, 1987-2018]', party='Republican', state='AZ')\n",
      "Senator(name='Sen. Cory Booker [D, 2013-2026]', party='Democrat', state='NJ')\n",
      "Senator(name='Sen. Brian Schatz [D, 2012-2022]', party='Democrat', state='HI')\n",
      "Senator(name='Sen. Mazie Hirono [D, 2013-2024]', party='Democrat', state='HI')\n",
      "Senator(name='Sen. Richard Blumenthal [D, 2011-2022]', party='Democrat', state='CT')\n",
      "Senator(name='Sen. Angus King Jr. [I, 2013-2024]', party='Independent', state='ME')\n",
      "Senator(name='Sen. Richard Durbin [D, 1997-2026]', party='Democrat', state='IL')\n",
      "Senator(name='Sen. Thomas Carper [D, 2001-2024]', party='Democrat', state='DE')\n",
      "Senator(name='Sen. Charles “Chuck” Schumer [D, 1999-2022]', party='Democrat', state='NY')\n",
      "Senator(name='Sen. Sherrod Brown [D, 2007-2024]', party='Democrat', state='OH')\n",
      "Senator(name='Sen. John “Jack” Reed [D, 1997-2026]', party='Democrat', state='RI')\n",
      "Senator(name='Sen. Robert “Bob” Menendez [D, 2006-2024]', party='Democrat', state='NJ')\n",
      "Senator(name='Sen. Benjamin Cardin [D, 2007-2024]', party='Democrat', state='MD')\n",
      "Senator(name='Sen. Christopher Murphy [D, 2013-2024]', party='Democrat', state='CT')\n",
      "Senator(name='Sen. Joe Manchin III [D, 2010-2024]', party='Democrat', state='WV')\n",
      "Senator(name='Sen. Timothy “Tim” Kaine [D, 2013-2024]', party='Democrat', state='VA')\n",
      "Senator(name='Sen. Maria Cantwell [D, 2001-2024]', party='Democrat', state='WA')\n",
      "Senator(name='Sen. Patty Murray [D, 1993-2022]', party='Democrat', state='WA')\n",
      "Senator(name='Sen. Alan “Al” Franken [D, 2009-2017]', party='Democrat', state='MN')\n",
      "Senator(name='Sen. Bob Corker [R, 2007-2018]', party='Republican', state='TN')\n",
      "Senator(name='Sen. Michael “Mike” Crapo [R, 1999-2022]', party='Republican', state='ID')\n",
      "Senator(name='Sen. Barbara Mikulski [D, 1987-2016]', party='Democrat', state='MD')\n",
      "Senator(name='Sen. Claire McCaskill [D, 2007-2018]', party='Democrat', state='MO')\n",
      "Senator(name='Sen. James Lankford [R, 2015-2022]', party='Republican', state='OK')\n",
      "Senator(name='Sen. Sheldon Whitehouse [D, 2007-2024]', party='Democrat', state='RI')\n",
      "Senator(name='Sen. James Risch [R, 2009-2026]', party='Republican', state='ID')\n",
      "Senator(name='Sen. Christopher Coons [D, 2010-2026]', party='Democrat', state='DE')\n",
      "Senator(name='Sen. Gary Peters [D, 2015-2026]', party='Democrat', state='MI')\n",
      "Senator(name='Sen. Debbie Stabenow [D, 2001-2024]', party='Democrat', state='MI')\n",
      "Senator(name='Sen. Lindsey Graham [R, 2003-2026]', party='Republican', state='SC')\n",
      "Counter({'Democrat': 32, 'Republican': 6, 'Independent': 1})\n"
     ]
    }
   ],
   "source": [
    "for i, votes_in_cluster in enumerate(clustered_vots.values(),start=1):\n",
    "    print(f'===================== Voting Cluster {i} ===================')\n",
    "    party_totals=Counter()\n",
    "    for votes in set(votes_in_cluster):\n",
    "        for senator in votes_to_senators[votes]:\n",
    "            party_totals[senator.party]+=1\n",
    "            print(senator)\n",
    "    print(party_totals)"
   ]
  },
  {
   "cell_type": "code",
   "execution_count": null,
   "id": "6fde2e5c-ccc8-484f-b554-1f439292d9fa",
   "metadata": {},
   "outputs": [],
   "source": []
  }
 ],
 "metadata": {
  "kernelspec": {
   "display_name": "Python 3 (ipykernel)",
   "language": "python",
   "name": "python3"
  },
  "language_info": {
   "codemirror_mode": {
    "name": "ipython",
    "version": 3
   },
   "file_extension": ".py",
   "mimetype": "text/x-python",
   "name": "python",
   "nbconvert_exporter": "python",
   "pygments_lexer": "ipython3",
   "version": "3.9.7"
  }
 },
 "nbformat": 4,
 "nbformat_minor": 5
}
