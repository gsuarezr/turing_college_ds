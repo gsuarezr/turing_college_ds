{
 "cells": [
  {
   "cell_type": "code",
   "execution_count": 24,
   "id": "891d5a16-60e3-48e4-a1c6-304bcedee455",
   "metadata": {},
   "outputs": [
    {
     "name": "stdout",
     "output_type": "stream",
     "text": [
      "Looking in indexes: https://test.pypi.org/simple/\n",
      "Collecting gerardocalc\n",
      "  Downloading https://test-files.pythonhosted.org/packages/22/d4/4e842ac6a866ba1a617181435439c53aa94a67848fd2bba2e1e8c496ecb9/gerardocalc-0.0.11-py3-none-any.whl (2.1 kB)\n",
      "Installing collected packages: gerardocalc\n",
      "Successfully installed gerardocalc-0.0.11\n"
     ]
    }
   ],
   "source": [
    "!pip install -i https://test.pypi.org/simple/ gerardocalc"
   ]
  },
  {
   "cell_type": "code",
   "execution_count": 1,
   "id": "53581f0f-d79d-45ed-a283-1f89306f0421",
   "metadata": {},
   "outputs": [
    {
     "ename": "ModuleNotFoundError",
     "evalue": "No module named 'gerardocalc'",
     "output_type": "error",
     "traceback": [
      "\u001b[0;31m---------------------------------------------------------------------------\u001b[0m",
      "\u001b[0;31mModuleNotFoundError\u001b[0m                       Traceback (most recent call last)",
      "\u001b[0;32m/tmp/ipykernel_7244/2566034515.py\u001b[0m in \u001b[0;36m<module>\u001b[0;34m\u001b[0m\n\u001b[0;32m----> 1\u001b[0;31m \u001b[0;32mimport\u001b[0m \u001b[0mgerardocalc\u001b[0m\u001b[0;34m\u001b[0m\u001b[0;34m\u001b[0m\u001b[0m\n\u001b[0m",
      "\u001b[0;31mModuleNotFoundError\u001b[0m: No module named 'gerardocalc'"
     ]
    }
   ],
   "source": [
    "import gerardocalc"
   ]
  },
  {
   "cell_type": "code",
   "execution_count": null,
   "id": "ce0cc950-8610-48e6-81d4-daff3ec29162",
   "metadata": {},
   "outputs": [],
   "source": []
  }
 ],
 "metadata": {
  "kernelspec": {
   "display_name": "Python 3 (ipykernel)",
   "language": "python",
   "name": "python3"
  },
  "language_info": {
   "codemirror_mode": {
    "name": "ipython",
    "version": 3
   },
   "file_extension": ".py",
   "mimetype": "text/x-python",
   "name": "python",
   "nbconvert_exporter": "python",
   "pygments_lexer": "ipython3",
   "version": "3.9.7"
  }
 },
 "nbformat": 4,
 "nbformat_minor": 5
}
