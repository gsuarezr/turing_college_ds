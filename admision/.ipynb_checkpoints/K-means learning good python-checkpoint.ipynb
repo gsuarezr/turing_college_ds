{
 "cells": [
  {
   "cell_type": "code",
   "execution_count": 28,
   "id": "360632b7",
   "metadata": {},
   "outputs": [],
   "source": [
    "from typing import Iterable,Tuple,Sequence,Dict,List\n",
    "from collections import defaultdict\n",
    "from math import fsum,sqrt\n",
    "from pprint import pprint\n",
    "from random import sample\n",
    "from functools import partial"
   ]
  },
  {
   "cell_type": "code",
   "execution_count": 21,
   "id": "ef3aee17",
   "metadata": {},
   "outputs": [],
   "source": [
    "Point=Tuple[int,...]\n",
    "Centroid=Point"
   ]
  },
  {
   "cell_type": "code",
   "execution_count": 22,
   "id": "7244eb4e",
   "metadata": {},
   "outputs": [],
   "source": [
    "points=[(10,41,23),(22,30,29),(11,42,5),(20,32,4),(12,40,12),(21,36,23)]"
   ]
  },
  {
   "cell_type": "code",
   "execution_count": 23,
   "id": "0c02c996",
   "metadata": {},
   "outputs": [],
   "source": [
    "def mean(data:Iterable[float])->float:\n",
    "    'Accurate Aritmethic mean'\n",
    "    data=list(data)\n",
    "    return fsum(data)/len(data)"
   ]
  },
  {
   "cell_type": "code",
   "execution_count": 24,
   "id": "4466d111",
   "metadata": {},
   "outputs": [],
   "source": [
    "def dist(p:Point,q:Point,fsum=fsum,sqrt=sqrt,zip=zip)->float:\n",
    "    'Euclidean distance'\n",
    "    return sqrt(fsum([(x-y)**2 for x,y in zip(p,q)]))"
   ]
  },
  {
   "cell_type": "code",
   "execution_count": 34,
   "id": "07ac6216",
   "metadata": {},
   "outputs": [],
   "source": [
    "def assign_data(centroids:Sequence[Centroid],data:Iterable[Point])->Dict[Centroid,List[Point]]:\n",
    "    'Group the data points to the closest centroid'\n",
    "    d=defaultdict(list)\n",
    "    for point in data:\n",
    "        closest_centroid=min(centroids,key=partial(dist,point))\n",
    "        d[closest_centroid].append(point)\n",
    "    return dict(d)"
   ]
  },
  {
   "cell_type": "code",
   "execution_count": 27,
   "id": "b0e0d163",
   "metadata": {},
   "outputs": [],
   "source": [
    "def compute_centroid(groups:Iterable[Sequence[Point]])->List[Centroid]:\n",
    "    'Compute centroid of each group'\n",
    "    return [tuple(map(mean,zip(*group))) for group in groups]"
   ]
  },
  {
   "cell_type": "code",
   "execution_count": 35,
   "id": "b7728dc8",
   "metadata": {},
   "outputs": [],
   "source": [
    "def k_means(data,k=2,iterations=50):\n",
    "    data=list(data)\n",
    "    centroids=sample(data,k)\n",
    "    for i in range(iterations):\n",
    "        labeld=assign_data(centroids,data)\n",
    "        centroids=compute_centroid(labeld.values())\n",
    "    return centroids"
   ]
  },
  {
   "cell_type": "code",
   "execution_count": 38,
   "id": "5b49c4f6",
   "metadata": {},
   "outputs": [
    {
     "data": {
      "text/plain": [
       "[(10.0, 41.0, 23.0),\n",
       " (22.0, 30.0, 29.0),\n",
       " (11.0, 42.0, 5.0),\n",
       " (20.0, 32.0, 4.0),\n",
       " (12.0, 40.0, 12.0),\n",
       " (21.0, 36.0, 23.0)]"
      ]
     },
     "execution_count": 38,
     "metadata": {},
     "output_type": "execute_result"
    }
   ],
   "source": [
    "k_means(points,k=6)"
   ]
  },
  {
   "cell_type": "code",
   "execution_count": null,
   "id": "5537b492",
   "metadata": {},
   "outputs": [],
   "source": []
  }
 ],
 "metadata": {
  "kernelspec": {
   "display_name": "Python 3 (ipykernel)",
   "language": "python",
   "name": "python3"
  },
  "language_info": {
   "codemirror_mode": {
    "name": "ipython",
    "version": 3
   },
   "file_extension": ".py",
   "mimetype": "text/x-python",
   "name": "python",
   "nbconvert_exporter": "python",
   "pygments_lexer": "ipython3",
   "version": "3.9.7"
  }
 },
 "nbformat": 4,
 "nbformat_minor": 5
}
